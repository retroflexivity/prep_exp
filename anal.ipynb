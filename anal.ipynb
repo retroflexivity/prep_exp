{
 "cells": [
  {
   "cell_type": "code",
   "execution_count": 3,
   "metadata": {},
   "outputs": [],
   "source": [
    "import pandas as pd\n",
    "import matplotlib.pyplot as plt\n",
    "import numpy as np\n",
    "from scipy import stats\n",
    "from pymer4.models import Lmer\n",
    "from rpy2.robjects import conversion, default_converter\n",
    "from sklearn import linear_model\n",
    "import statsmodels.api as sm"
   ]
  },
  {
   "cell_type": "markdown",
   "metadata": {},
   "source": [
    "## Очистка"
   ]
  },
  {
   "cell_type": "code",
   "execution_count": 2,
   "metadata": {},
   "outputs": [],
   "source": [
    "res = []\n",
    "with open('results.csv') as results:\n",
    "    for l in results.readlines():\n",
    "        if 'judgement' in l:\n",
    "            res.append(l)"
   ]
  },
  {
   "cell_type": "code",
   "execution_count": 3,
   "metadata": {},
   "outputs": [],
   "source": [
    "with open('results_cleaned.csv', 'w') as f:\n",
    "    f.write('time,ip,controller,order,inner,label,square,pennelement_type,pennelement_name,parameter,value,event_time,id,text,mod,lin,syn,dupl,comments\\n')\n",
    "    for l in res:\n",
    "        f.write(l)"
   ]
  },
  {
   "cell_type": "markdown",
   "metadata": {},
   "source": [
    "## Предобработка"
   ]
  },
  {
   "cell_type": "code",
   "execution_count": 4,
   "metadata": {},
   "outputs": [],
   "source": [
    "data = pd.read_csv('results_cleaned.csv')"
   ]
  },
  {
   "cell_type": "code",
   "execution_count": 5,
   "metadata": {},
   "outputs": [],
   "source": [
    "data = data[['time', 'text', 'mod', 'lin', 'syn', 'dupl', 'value']]"
   ]
  },
  {
   "cell_type": "code",
   "execution_count": 6,
   "metadata": {},
   "outputs": [
    {
     "data": {
      "text/html": [
       "<div>\n",
       "<style scoped>\n",
       "    .dataframe tbody tr th:only-of-type {\n",
       "        vertical-align: middle;\n",
       "    }\n",
       "\n",
       "    .dataframe tbody tr th {\n",
       "        vertical-align: top;\n",
       "    }\n",
       "\n",
       "    .dataframe thead th {\n",
       "        text-align: right;\n",
       "    }\n",
       "</style>\n",
       "<table border=\"1\" class=\"dataframe\">\n",
       "  <thead>\n",
       "    <tr style=\"text-align: right;\">\n",
       "      <th></th>\n",
       "      <th>time</th>\n",
       "      <th>text</th>\n",
       "      <th>mod</th>\n",
       "      <th>lin</th>\n",
       "      <th>syn</th>\n",
       "      <th>dupl</th>\n",
       "      <th>value</th>\n",
       "    </tr>\n",
       "  </thead>\n",
       "  <tbody>\n",
       "    <tr>\n",
       "      <th>0</th>\n",
       "      <td>1734465754</td>\n",
       "      <td>У меня самого сейчас возникли вопросы к органи...</td>\n",
       "      <td>sam</td>\n",
       "      <td>R</td>\n",
       "      <td>high</td>\n",
       "      <td>False</td>\n",
       "      <td>7</td>\n",
       "    </tr>\n",
       "    <tr>\n",
       "      <th>1</th>\n",
       "      <td>1734465754</td>\n",
       "      <td>У всех у нас сегодня очень интересные доклады.</td>\n",
       "      <td>vse</td>\n",
       "      <td>L</td>\n",
       "      <td>high</td>\n",
       "      <td>True</td>\n",
       "      <td>7</td>\n",
       "    </tr>\n",
       "    <tr>\n",
       "      <th>2</th>\n",
       "      <td>1734465754</td>\n",
       "      <td>Я каждый раз прошу у него помощи уставшего.</td>\n",
       "      <td>depic</td>\n",
       "      <td>E</td>\n",
       "      <td>low</td>\n",
       "      <td>False</td>\n",
       "      <td>1</td>\n",
       "    </tr>\n",
       "    <tr>\n",
       "      <th>3</th>\n",
       "      <td>1734465754</td>\n",
       "      <td>У нас у всех сегодня очень интересные доклады.</td>\n",
       "      <td>vse</td>\n",
       "      <td>R</td>\n",
       "      <td>high</td>\n",
       "      <td>True</td>\n",
       "      <td>7</td>\n",
       "    </tr>\n",
       "    <tr>\n",
       "      <th>4</th>\n",
       "      <td>1734465754</td>\n",
       "      <td>И у больного него часто получается лучше%2C че...</td>\n",
       "      <td>depic</td>\n",
       "      <td>L</td>\n",
       "      <td>high</td>\n",
       "      <td>False</td>\n",
       "      <td>1</td>\n",
       "    </tr>\n",
       "    <tr>\n",
       "      <th>...</th>\n",
       "      <td>...</td>\n",
       "      <td>...</td>\n",
       "      <td>...</td>\n",
       "      <td>...</td>\n",
       "      <td>...</td>\n",
       "      <td>...</td>\n",
       "      <td>...</td>\n",
       "    </tr>\n",
       "    <tr>\n",
       "      <th>1435</th>\n",
       "      <td>1735050392</td>\n",
       "      <td>Не волнуйся%2C он у нас это спрашивал каждого.</td>\n",
       "      <td>kazhdy</td>\n",
       "      <td>E</td>\n",
       "      <td>low</td>\n",
       "      <td>False</td>\n",
       "      <td>1</td>\n",
       "    </tr>\n",
       "    <tr>\n",
       "      <th>1436</th>\n",
       "      <td>1735050392</td>\n",
       "      <td>У нас недавно у всех произошло трагическое соб...</td>\n",
       "      <td>vse</td>\n",
       "      <td>E</td>\n",
       "      <td>high</td>\n",
       "      <td>True</td>\n",
       "      <td>7</td>\n",
       "    </tr>\n",
       "    <tr>\n",
       "      <th>1437</th>\n",
       "      <td>1735050392</td>\n",
       "      <td>У тебя и пьяного иногда отлично голова работает.</td>\n",
       "      <td>depic</td>\n",
       "      <td>R</td>\n",
       "      <td>high</td>\n",
       "      <td>False</td>\n",
       "      <td>7</td>\n",
       "    </tr>\n",
       "    <tr>\n",
       "      <th>1438</th>\n",
       "      <td>1735050392</td>\n",
       "      <td>Мы у них уже бывали в гостях всех.</td>\n",
       "      <td>vse</td>\n",
       "      <td>E</td>\n",
       "      <td>low</td>\n",
       "      <td>False</td>\n",
       "      <td>2</td>\n",
       "    </tr>\n",
       "    <tr>\n",
       "      <th>1439</th>\n",
       "      <td>1735050392</td>\n",
       "      <td>У каждого у них небось по куче денег.</td>\n",
       "      <td>kazhdy</td>\n",
       "      <td>L</td>\n",
       "      <td>high</td>\n",
       "      <td>True</td>\n",
       "      <td>2</td>\n",
       "    </tr>\n",
       "  </tbody>\n",
       "</table>\n",
       "<p>1440 rows × 7 columns</p>\n",
       "</div>"
      ],
      "text/plain": [
       "            time                                               text     mod  \\\n",
       "0     1734465754  У меня самого сейчас возникли вопросы к органи...     sam   \n",
       "1     1734465754     У всех у нас сегодня очень интересные доклады.     vse   \n",
       "2     1734465754        Я каждый раз прошу у него помощи уставшего.   depic   \n",
       "3     1734465754     У нас у всех сегодня очень интересные доклады.     vse   \n",
       "4     1734465754  И у больного него часто получается лучше%2C че...   depic   \n",
       "...          ...                                                ...     ...   \n",
       "1435  1735050392     Не волнуйся%2C он у нас это спрашивал каждого.  kazhdy   \n",
       "1436  1735050392  У нас недавно у всех произошло трагическое соб...     vse   \n",
       "1437  1735050392   У тебя и пьяного иногда отлично голова работает.   depic   \n",
       "1438  1735050392                 Мы у них уже бывали в гостях всех.     vse   \n",
       "1439  1735050392              У каждого у них небось по куче денег.  kazhdy   \n",
       "\n",
       "     lin   syn   dupl  value  \n",
       "0      R  high  False      7  \n",
       "1      L  high   True      7  \n",
       "2      E   low  False      1  \n",
       "3      R  high   True      7  \n",
       "4      L  high  False      1  \n",
       "...   ..   ...    ...    ...  \n",
       "1435   E   low  False      1  \n",
       "1436   E  high   True      7  \n",
       "1437   R  high  False      7  \n",
       "1438   E   low  False      2  \n",
       "1439   L  high   True      2  \n",
       "\n",
       "[1440 rows x 7 columns]"
      ]
     },
     "execution_count": 6,
     "metadata": {},
     "output_type": "execute_result"
    }
   ],
   "source": [
    "data"
   ]
  },
  {
   "cell_type": "code",
   "execution_count": 7,
   "metadata": {},
   "outputs": [],
   "source": [
    "data_num = data.copy()\n",
    "for col in ['lin', 'syn', 'dupl', 'time']:\n",
    "    data_num[col] = data[col].astype('category').cat.codes"
   ]
  },
  {
   "cell_type": "code",
   "execution_count": 8,
   "metadata": {},
   "outputs": [
    {
     "data": {
      "text/html": [
       "<div>\n",
       "<style scoped>\n",
       "    .dataframe tbody tr th:only-of-type {\n",
       "        vertical-align: middle;\n",
       "    }\n",
       "\n",
       "    .dataframe tbody tr th {\n",
       "        vertical-align: top;\n",
       "    }\n",
       "\n",
       "    .dataframe thead th {\n",
       "        text-align: right;\n",
       "    }\n",
       "</style>\n",
       "<table border=\"1\" class=\"dataframe\">\n",
       "  <thead>\n",
       "    <tr style=\"text-align: right;\">\n",
       "      <th></th>\n",
       "      <th>time</th>\n",
       "      <th>text</th>\n",
       "      <th>mod</th>\n",
       "      <th>lin</th>\n",
       "      <th>syn</th>\n",
       "      <th>dupl</th>\n",
       "      <th>value</th>\n",
       "    </tr>\n",
       "  </thead>\n",
       "  <tbody>\n",
       "    <tr>\n",
       "      <th>0</th>\n",
       "      <td>0</td>\n",
       "      <td>У меня самого сейчас возникли вопросы к органи...</td>\n",
       "      <td>sam</td>\n",
       "      <td>2</td>\n",
       "      <td>0</td>\n",
       "      <td>0</td>\n",
       "      <td>7</td>\n",
       "    </tr>\n",
       "    <tr>\n",
       "      <th>1</th>\n",
       "      <td>0</td>\n",
       "      <td>У всех у нас сегодня очень интересные доклады.</td>\n",
       "      <td>vse</td>\n",
       "      <td>1</td>\n",
       "      <td>0</td>\n",
       "      <td>1</td>\n",
       "      <td>7</td>\n",
       "    </tr>\n",
       "    <tr>\n",
       "      <th>2</th>\n",
       "      <td>0</td>\n",
       "      <td>Я каждый раз прошу у него помощи уставшего.</td>\n",
       "      <td>depic</td>\n",
       "      <td>0</td>\n",
       "      <td>1</td>\n",
       "      <td>0</td>\n",
       "      <td>1</td>\n",
       "    </tr>\n",
       "    <tr>\n",
       "      <th>3</th>\n",
       "      <td>0</td>\n",
       "      <td>У нас у всех сегодня очень интересные доклады.</td>\n",
       "      <td>vse</td>\n",
       "      <td>2</td>\n",
       "      <td>0</td>\n",
       "      <td>1</td>\n",
       "      <td>7</td>\n",
       "    </tr>\n",
       "    <tr>\n",
       "      <th>4</th>\n",
       "      <td>0</td>\n",
       "      <td>И у больного него часто получается лучше%2C че...</td>\n",
       "      <td>depic</td>\n",
       "      <td>1</td>\n",
       "      <td>0</td>\n",
       "      <td>0</td>\n",
       "      <td>1</td>\n",
       "    </tr>\n",
       "    <tr>\n",
       "      <th>...</th>\n",
       "      <td>...</td>\n",
       "      <td>...</td>\n",
       "      <td>...</td>\n",
       "      <td>...</td>\n",
       "      <td>...</td>\n",
       "      <td>...</td>\n",
       "      <td>...</td>\n",
       "    </tr>\n",
       "    <tr>\n",
       "      <th>1435</th>\n",
       "      <td>35</td>\n",
       "      <td>Не волнуйся%2C он у нас это спрашивал каждого.</td>\n",
       "      <td>kazhdy</td>\n",
       "      <td>0</td>\n",
       "      <td>1</td>\n",
       "      <td>0</td>\n",
       "      <td>1</td>\n",
       "    </tr>\n",
       "    <tr>\n",
       "      <th>1436</th>\n",
       "      <td>35</td>\n",
       "      <td>У нас недавно у всех произошло трагическое соб...</td>\n",
       "      <td>vse</td>\n",
       "      <td>0</td>\n",
       "      <td>0</td>\n",
       "      <td>1</td>\n",
       "      <td>7</td>\n",
       "    </tr>\n",
       "    <tr>\n",
       "      <th>1437</th>\n",
       "      <td>35</td>\n",
       "      <td>У тебя и пьяного иногда отлично голова работает.</td>\n",
       "      <td>depic</td>\n",
       "      <td>2</td>\n",
       "      <td>0</td>\n",
       "      <td>0</td>\n",
       "      <td>7</td>\n",
       "    </tr>\n",
       "    <tr>\n",
       "      <th>1438</th>\n",
       "      <td>35</td>\n",
       "      <td>Мы у них уже бывали в гостях всех.</td>\n",
       "      <td>vse</td>\n",
       "      <td>0</td>\n",
       "      <td>1</td>\n",
       "      <td>0</td>\n",
       "      <td>2</td>\n",
       "    </tr>\n",
       "    <tr>\n",
       "      <th>1439</th>\n",
       "      <td>35</td>\n",
       "      <td>У каждого у них небось по куче денег.</td>\n",
       "      <td>kazhdy</td>\n",
       "      <td>1</td>\n",
       "      <td>0</td>\n",
       "      <td>1</td>\n",
       "      <td>2</td>\n",
       "    </tr>\n",
       "  </tbody>\n",
       "</table>\n",
       "<p>1440 rows × 7 columns</p>\n",
       "</div>"
      ],
      "text/plain": [
       "      time                                               text     mod  lin  \\\n",
       "0        0  У меня самого сейчас возникли вопросы к органи...     sam    2   \n",
       "1        0     У всех у нас сегодня очень интересные доклады.     vse    1   \n",
       "2        0        Я каждый раз прошу у него помощи уставшего.   depic    0   \n",
       "3        0     У нас у всех сегодня очень интересные доклады.     vse    2   \n",
       "4        0  И у больного него часто получается лучше%2C че...   depic    1   \n",
       "...    ...                                                ...     ...  ...   \n",
       "1435    35     Не волнуйся%2C он у нас это спрашивал каждого.  kazhdy    0   \n",
       "1436    35  У нас недавно у всех произошло трагическое соб...     vse    0   \n",
       "1437    35   У тебя и пьяного иногда отлично голова работает.   depic    2   \n",
       "1438    35                 Мы у них уже бывали в гостях всех.     vse    0   \n",
       "1439    35              У каждого у них небось по куче денег.  kazhdy    1   \n",
       "\n",
       "      syn  dupl  value  \n",
       "0       0     0      7  \n",
       "1       0     1      7  \n",
       "2       1     0      1  \n",
       "3       0     1      7  \n",
       "4       0     0      1  \n",
       "...   ...   ...    ...  \n",
       "1435    1     0      1  \n",
       "1436    0     1      7  \n",
       "1437    0     0      7  \n",
       "1438    1     0      2  \n",
       "1439    0     1      2  \n",
       "\n",
       "[1440 rows x 7 columns]"
      ]
     },
     "execution_count": 8,
     "metadata": {},
     "output_type": "execute_result"
    }
   ],
   "source": [
    "data_num"
   ]
  },
  {
   "cell_type": "code",
   "execution_count": 7,
   "metadata": {},
   "outputs": [
    {
     "data": {
      "image/png": "[encoded data removed]",
      "text/plain": [
       "<Figure size 3000x1000 with 3 Axes>"
      ]
     },
     "metadata": {},
     "output_type": "display_data"
    }
   ],
   "source": [
    "fig, axes = plt.subplots(1, 3, figsize=(30, 10))\n",
    "for ax, lin in zip(axes.flatten(), data['lin'].unique()):\n",
    "    data_r = data[data['lin'] == lin].groupby(['mod', 'lin', 'dupl'])['value'].mean().reset_index()\n",
    "    bars = data_r['mod'].unique()\n",
    "    x = np.arange(len(bars))\n",
    "    width = 0.4\n",
    "\n",
    "    ax.bar(x - 0.2, data_r[ data_r['dupl']]['value'], align='center', width=width)\n",
    "    ax.bar(x + 0.2, data_r[~data_r['dupl']]['value'], align='center', width=width)\n",
    "    ax.set_title(f'linear position {lin}')\n",
    "    ax.set_xticks(x, bars)\n",
    "    ax.legend(['doubling', 'no doubling'])"
   ]
  },
  {
   "cell_type": "code",
   "execution_count": 15,
   "metadata": {},
   "outputs": [
    {
     "data": {
      "image/png": "[encoded data removed]",
      "text/plain": [
       "<Figure size 3000x1000 with 3 Axes>"
      ]
     },
     "metadata": {},
     "output_type": "display_data"
    },
    {
     "data": {
      "image/png": "[encoded data removed]",
      "text/plain": [
       "<Figure size 2000x1000 with 2 Axes>"
      ]
     },
     "metadata": {},
     "output_type": "display_data"
    }
   ],
   "source": [
    "\n",
    "for syn in data['syn'].unique():\n",
    "    lins = data[data['syn'] == syn]['lin'].unique()\n",
    "    fig, axes = plt.subplots(1, len(lins), figsize=(len(lins) * 10, 10))\n",
    "    fig.suptitle(f'Acceptance of preposition doubling fo {syn} syntactic position, per modifier category.')\n",
    "    for ax, lin in zip(axes.flatten(), lins):\n",
    "        data_r = data[(data['lin'] == lin) & (data['syn'] == syn)].groupby(['mod', 'lin', 'syn', 'dupl'])['value'].mean().reset_index()\n",
    "        bars = data_r['mod'].unique()\n",
    "        x = np.arange(len(bars))\n",
    "        width = 0.4\n",
    "\n",
    "        ax.bar(x - 0.2, data_r[ data_r['dupl']]['value'], align='center', width=width)\n",
    "        ax.bar(x + 0.2, data_r[~data_r['dupl']]['value'], align='center', width=width)\n",
    "        ax.set_title(f'syntactic position {syn}, linear position {lin}')\n",
    "        ax.set_xticks(x, bars)\n",
    "        ax.legend(['doubling', 'no doubling'])\n",
    "    fig.savefig(f'plot_{syn}.png')"
   ]
  },
  {
   "cell_type": "markdown",
   "metadata": {},
   "source": [
    "### линрег"
   ]
  },
  {
   "cell_type": "code",
   "execution_count": 9,
   "metadata": {},
   "outputs": [
    {
     "data": {
      "text/plain": [
       "const    2.538372e-146\n",
       "lin       5.571369e-36\n",
       "syn       2.887015e-16\n",
       "dupl      1.314139e-35\n",
       "dtype: float64"
      ]
     },
     "execution_count": 9,
     "metadata": {},
     "output_type": "execute_result"
    }
   ],
   "source": [
    "X = sm.add_constant(data_num[['lin', 'syn', 'dupl']])\n",
    "est = sm.OLS(data_num['value'], X).fit()\n",
    "est.pvalues"
   ]
  },
  {
   "cell_type": "markdown",
   "metadata": {},
   "source": [
    "ладно"
   ]
  },
  {
   "cell_type": "code",
   "execution_count": 22,
   "metadata": {},
   "outputs": [],
   "source": [
    "def linreg_mod(mod):\n",
    "    data_mod = data_num[data_num['mod'] == mod]\n",
    "    X = sm.add_constant(data_mod[['lin', 'syn', 'dupl']])\n",
    "    est = sm.OLS(data_mod['value'], X).fit()\n",
    "    return est.pvalues"
   ]
  },
  {
   "cell_type": "code",
   "execution_count": 23,
   "metadata": {},
   "outputs": [
    {
     "data": {
      "text/plain": [
       "const    4.011614e-22\n",
       "lin      3.133236e-02\n",
       "syn      4.035240e-01\n",
       "dupl     2.762693e-41\n",
       "dtype: float64"
      ]
     },
     "execution_count": 23,
     "metadata": {},
     "output_type": "execute_result"
    }
   ],
   "source": [
    "linreg_mod('kazhdy')"
   ]
  },
  {
   "cell_type": "code",
   "execution_count": 24,
   "metadata": {},
   "outputs": [
    {
     "data": {
      "text/plain": [
       "const    6.978395e-46\n",
       "lin      2.115247e-18\n",
       "syn      1.789474e-06\n",
       "dupl     1.009570e-01\n",
       "dtype: float64"
      ]
     },
     "execution_count": 24,
     "metadata": {},
     "output_type": "execute_result"
    }
   ],
   "source": [
    "linreg_mod('sam')"
   ]
  },
  {
   "cell_type": "code",
   "execution_count": 25,
   "metadata": {},
   "outputs": [
    {
     "data": {
      "text/plain": [
       "const    2.931765e-61\n",
       "lin      1.087597e-29\n",
       "syn      6.131023e-10\n",
       "dupl     3.142833e-13\n",
       "dtype: float64"
      ]
     },
     "execution_count": 25,
     "metadata": {},
     "output_type": "execute_result"
    }
   ],
   "source": [
    "linreg_mod('vse')"
   ]
  },
  {
   "cell_type": "code",
   "execution_count": 26,
   "metadata": {},
   "outputs": [
    {
     "data": {
      "text/plain": [
       "const    6.521588e-46\n",
       "lin      4.859146e-06\n",
       "syn      5.568831e-09\n",
       "dupl     1.892348e-05\n",
       "dtype: float64"
      ]
     },
     "execution_count": 26,
     "metadata": {},
     "output_type": "execute_result"
    }
   ],
   "source": [
    "linreg_mod('depic')"
   ]
  },
  {
   "cell_type": "code",
   "execution_count": 16,
   "metadata": {},
   "outputs": [],
   "source": [
    "def lin_sp(data, mod, lin, syn):\n",
    "    data_sp = data[(data['mod'] == mod) & (data['lin'] == lin) & (data['syn'] == syn)]\n",
    "    if len(data_sp) == 0:\n",
    "        return\n",
    "    X = sm.add_constant(data_sp['dupl'].astype('category').cat.codes)\n",
    "    est = sm.OLS(data_sp['value'], X).fit()\n",
    "    return est.pvalues[0]"
   ]
  },
  {
   "cell_type": "code",
   "execution_count": 17,
   "metadata": {},
   "outputs": [],
   "source": [
    "res = []\n",
    "for mod in data['mod'].unique():\n",
    "    for lin in data['lin'].unique():\n",
    "        for syn in data['syn'].unique():\n",
    "            res.append([mod, lin, syn, lin_sp(data, mod, lin, syn)])"
   ]
  },
  {
   "cell_type": "code",
   "execution_count": 49,
   "metadata": {},
   "outputs": [
    {
     "data": {
      "text/html": [
       "<div>\n",
       "<style scoped>\n",
       "    .dataframe tbody tr th:only-of-type {\n",
       "        vertical-align: middle;\n",
       "    }\n",
       "\n",
       "    .dataframe tbody tr th {\n",
       "        vertical-align: top;\n",
       "    }\n",
       "\n",
       "    .dataframe thead th {\n",
       "        text-align: right;\n",
       "    }\n",
       "</style>\n",
       "<table border=\"1\" class=\"dataframe\">\n",
       "  <thead>\n",
       "    <tr style=\"text-align: right;\">\n",
       "      <th></th>\n",
       "      <th>mod</th>\n",
       "      <th>lin</th>\n",
       "      <th>syn</th>\n",
       "      <th>p</th>\n",
       "      <th>signif</th>\n",
       "    </tr>\n",
       "  </thead>\n",
       "  <tbody>\n",
       "    <tr>\n",
       "      <th>0</th>\n",
       "      <td>sam</td>\n",
       "      <td>R</td>\n",
       "      <td>high</td>\n",
       "      <td>4.571432e-01</td>\n",
       "      <td>False</td>\n",
       "    </tr>\n",
       "    <tr>\n",
       "      <th>1</th>\n",
       "      <td>sam</td>\n",
       "      <td>R</td>\n",
       "      <td>low</td>\n",
       "      <td>1.383872e-05</td>\n",
       "      <td>True</td>\n",
       "    </tr>\n",
       "    <tr>\n",
       "      <th>2</th>\n",
       "      <td>sam</td>\n",
       "      <td>L</td>\n",
       "      <td>high</td>\n",
       "      <td>1.016590e-01</td>\n",
       "      <td>False</td>\n",
       "    </tr>\n",
       "    <tr>\n",
       "      <th>3</th>\n",
       "      <td>sam</td>\n",
       "      <td>L</td>\n",
       "      <td>low</td>\n",
       "      <td>NaN</td>\n",
       "      <td>False</td>\n",
       "    </tr>\n",
       "    <tr>\n",
       "      <th>4</th>\n",
       "      <td>sam</td>\n",
       "      <td>E</td>\n",
       "      <td>high</td>\n",
       "      <td>5.937406e-07</td>\n",
       "      <td>True</td>\n",
       "    </tr>\n",
       "    <tr>\n",
       "      <th>5</th>\n",
       "      <td>sam</td>\n",
       "      <td>E</td>\n",
       "      <td>low</td>\n",
       "      <td>1.030814e-01</td>\n",
       "      <td>False</td>\n",
       "    </tr>\n",
       "    <tr>\n",
       "      <th>6</th>\n",
       "      <td>vse</td>\n",
       "      <td>R</td>\n",
       "      <td>high</td>\n",
       "      <td>8.542816e-02</td>\n",
       "      <td>False</td>\n",
       "    </tr>\n",
       "    <tr>\n",
       "      <th>7</th>\n",
       "      <td>vse</td>\n",
       "      <td>R</td>\n",
       "      <td>low</td>\n",
       "      <td>1.201575e-02</td>\n",
       "      <td>True</td>\n",
       "    </tr>\n",
       "    <tr>\n",
       "      <th>8</th>\n",
       "      <td>vse</td>\n",
       "      <td>L</td>\n",
       "      <td>high</td>\n",
       "      <td>3.123739e-01</td>\n",
       "      <td>False</td>\n",
       "    </tr>\n",
       "    <tr>\n",
       "      <th>9</th>\n",
       "      <td>vse</td>\n",
       "      <td>L</td>\n",
       "      <td>low</td>\n",
       "      <td>NaN</td>\n",
       "      <td>False</td>\n",
       "    </tr>\n",
       "    <tr>\n",
       "      <th>10</th>\n",
       "      <td>vse</td>\n",
       "      <td>E</td>\n",
       "      <td>high</td>\n",
       "      <td>3.777074e-09</td>\n",
       "      <td>True</td>\n",
       "    </tr>\n",
       "    <tr>\n",
       "      <th>11</th>\n",
       "      <td>vse</td>\n",
       "      <td>E</td>\n",
       "      <td>low</td>\n",
       "      <td>3.144380e-08</td>\n",
       "      <td>True</td>\n",
       "    </tr>\n",
       "    <tr>\n",
       "      <th>12</th>\n",
       "      <td>depic</td>\n",
       "      <td>R</td>\n",
       "      <td>high</td>\n",
       "      <td>5.308080e-02</td>\n",
       "      <td>False</td>\n",
       "    </tr>\n",
       "    <tr>\n",
       "      <th>13</th>\n",
       "      <td>depic</td>\n",
       "      <td>R</td>\n",
       "      <td>low</td>\n",
       "      <td>6.823033e-01</td>\n",
       "      <td>False</td>\n",
       "    </tr>\n",
       "    <tr>\n",
       "      <th>14</th>\n",
       "      <td>depic</td>\n",
       "      <td>L</td>\n",
       "      <td>high</td>\n",
       "      <td>5.130737e-01</td>\n",
       "      <td>False</td>\n",
       "    </tr>\n",
       "    <tr>\n",
       "      <th>15</th>\n",
       "      <td>depic</td>\n",
       "      <td>L</td>\n",
       "      <td>low</td>\n",
       "      <td>NaN</td>\n",
       "      <td>False</td>\n",
       "    </tr>\n",
       "    <tr>\n",
       "      <th>16</th>\n",
       "      <td>depic</td>\n",
       "      <td>E</td>\n",
       "      <td>high</td>\n",
       "      <td>3.922618e-06</td>\n",
       "      <td>True</td>\n",
       "    </tr>\n",
       "    <tr>\n",
       "      <th>17</th>\n",
       "      <td>depic</td>\n",
       "      <td>E</td>\n",
       "      <td>low</td>\n",
       "      <td>6.653948e-03</td>\n",
       "      <td>True</td>\n",
       "    </tr>\n",
       "    <tr>\n",
       "      <th>18</th>\n",
       "      <td>kazhdy</td>\n",
       "      <td>R</td>\n",
       "      <td>high</td>\n",
       "      <td>3.340416e-10</td>\n",
       "      <td>True</td>\n",
       "    </tr>\n",
       "    <tr>\n",
       "      <th>19</th>\n",
       "      <td>kazhdy</td>\n",
       "      <td>R</td>\n",
       "      <td>low</td>\n",
       "      <td>1.291853e-09</td>\n",
       "      <td>True</td>\n",
       "    </tr>\n",
       "    <tr>\n",
       "      <th>20</th>\n",
       "      <td>kazhdy</td>\n",
       "      <td>L</td>\n",
       "      <td>high</td>\n",
       "      <td>1.182688e-03</td>\n",
       "      <td>True</td>\n",
       "    </tr>\n",
       "    <tr>\n",
       "      <th>21</th>\n",
       "      <td>kazhdy</td>\n",
       "      <td>L</td>\n",
       "      <td>low</td>\n",
       "      <td>NaN</td>\n",
       "      <td>False</td>\n",
       "    </tr>\n",
       "    <tr>\n",
       "      <th>22</th>\n",
       "      <td>kazhdy</td>\n",
       "      <td>E</td>\n",
       "      <td>high</td>\n",
       "      <td>7.136132e-25</td>\n",
       "      <td>True</td>\n",
       "    </tr>\n",
       "    <tr>\n",
       "      <th>23</th>\n",
       "      <td>kazhdy</td>\n",
       "      <td>E</td>\n",
       "      <td>low</td>\n",
       "      <td>1.619713e-12</td>\n",
       "      <td>True</td>\n",
       "    </tr>\n",
       "  </tbody>\n",
       "</table>\n",
       "</div>"
      ],
      "text/plain": [
       "       mod lin   syn             p  signif\n",
       "0      sam   R  high  4.571432e-01   False\n",
       "1      sam   R   low  1.383872e-05    True\n",
       "2      sam   L  high  1.016590e-01   False\n",
       "3      sam   L   low           NaN   False\n",
       "4      sam   E  high  5.937406e-07    True\n",
       "5      sam   E   low  1.030814e-01   False\n",
       "6      vse   R  high  8.542816e-02   False\n",
       "7      vse   R   low  1.201575e-02    True\n",
       "8      vse   L  high  3.123739e-01   False\n",
       "9      vse   L   low           NaN   False\n",
       "10     vse   E  high  3.777074e-09    True\n",
       "11     vse   E   low  3.144380e-08    True\n",
       "12   depic   R  high  5.308080e-02   False\n",
       "13   depic   R   low  6.823033e-01   False\n",
       "14   depic   L  high  5.130737e-01   False\n",
       "15   depic   L   low           NaN   False\n",
       "16   depic   E  high  3.922618e-06    True\n",
       "17   depic   E   low  6.653948e-03    True\n",
       "18  kazhdy   R  high  3.340416e-10    True\n",
       "19  kazhdy   R   low  1.291853e-09    True\n",
       "20  kazhdy   L  high  1.182688e-03    True\n",
       "21  kazhdy   L   low           NaN   False\n",
       "22  kazhdy   E  high  7.136132e-25    True\n",
       "23  kazhdy   E   low  1.619713e-12    True"
      ]
     },
     "execution_count": 49,
     "metadata": {},
     "output_type": "execute_result"
    }
   ],
   "source": [
    "pval = pd.DataFrame(res, columns=('mod', 'lin', 'syn', 'p'))\n",
    "pval['signif'] = pval['p'].apply(lambda x: x < 0.05).dropna()\n",
    "pval"
   ]
  },
  {
   "cell_type": "code",
   "execution_count": 46,
   "metadata": {},
   "outputs": [
    {
     "data": {
      "text/html": [
       "<div>\n",
       "<style scoped>\n",
       "    .dataframe tbody tr th:only-of-type {\n",
       "        vertical-align: middle;\n",
       "    }\n",
       "\n",
       "    .dataframe tbody tr th {\n",
       "        vertical-align: top;\n",
       "    }\n",
       "\n",
       "    .dataframe thead th {\n",
       "        text-align: right;\n",
       "    }\n",
       "</style>\n",
       "<table border=\"1\" class=\"dataframe\">\n",
       "  <thead>\n",
       "    <tr style=\"text-align: right;\">\n",
       "      <th></th>\n",
       "      <th>mod</th>\n",
       "      <th>lin</th>\n",
       "      <th>syn</th>\n",
       "      <th>p</th>\n",
       "      <th>signif</th>\n",
       "    </tr>\n",
       "  </thead>\n",
       "  <tbody>\n",
       "    <tr>\n",
       "      <th>0</th>\n",
       "      <td>sam</td>\n",
       "      <td>R</td>\n",
       "      <td>high</td>\n",
       "      <td>0.457143</td>\n",
       "      <td>False</td>\n",
       "    </tr>\n",
       "    <tr>\n",
       "      <th>6</th>\n",
       "      <td>vse</td>\n",
       "      <td>R</td>\n",
       "      <td>high</td>\n",
       "      <td>0.085428</td>\n",
       "      <td>False</td>\n",
       "    </tr>\n",
       "    <tr>\n",
       "      <th>12</th>\n",
       "      <td>depic</td>\n",
       "      <td>R</td>\n",
       "      <td>high</td>\n",
       "      <td>0.053081</td>\n",
       "      <td>False</td>\n",
       "    </tr>\n",
       "    <tr>\n",
       "      <th>2</th>\n",
       "      <td>sam</td>\n",
       "      <td>L</td>\n",
       "      <td>high</td>\n",
       "      <td>0.101659</td>\n",
       "      <td>False</td>\n",
       "    </tr>\n",
       "    <tr>\n",
       "      <th>8</th>\n",
       "      <td>vse</td>\n",
       "      <td>L</td>\n",
       "      <td>high</td>\n",
       "      <td>0.312374</td>\n",
       "      <td>False</td>\n",
       "    </tr>\n",
       "    <tr>\n",
       "      <th>14</th>\n",
       "      <td>depic</td>\n",
       "      <td>L</td>\n",
       "      <td>high</td>\n",
       "      <td>0.513074</td>\n",
       "      <td>False</td>\n",
       "    </tr>\n",
       "    <tr>\n",
       "      <th>13</th>\n",
       "      <td>depic</td>\n",
       "      <td>R</td>\n",
       "      <td>low</td>\n",
       "      <td>0.682303</td>\n",
       "      <td>False</td>\n",
       "    </tr>\n",
       "    <tr>\n",
       "      <th>3</th>\n",
       "      <td>sam</td>\n",
       "      <td>L</td>\n",
       "      <td>low</td>\n",
       "      <td>NaN</td>\n",
       "      <td>False</td>\n",
       "    </tr>\n",
       "    <tr>\n",
       "      <th>9</th>\n",
       "      <td>vse</td>\n",
       "      <td>L</td>\n",
       "      <td>low</td>\n",
       "      <td>NaN</td>\n",
       "      <td>False</td>\n",
       "    </tr>\n",
       "    <tr>\n",
       "      <th>15</th>\n",
       "      <td>depic</td>\n",
       "      <td>L</td>\n",
       "      <td>low</td>\n",
       "      <td>NaN</td>\n",
       "      <td>False</td>\n",
       "    </tr>\n",
       "    <tr>\n",
       "      <th>21</th>\n",
       "      <td>kazhdy</td>\n",
       "      <td>L</td>\n",
       "      <td>low</td>\n",
       "      <td>NaN</td>\n",
       "      <td>False</td>\n",
       "    </tr>\n",
       "    <tr>\n",
       "      <th>5</th>\n",
       "      <td>sam</td>\n",
       "      <td>E</td>\n",
       "      <td>low</td>\n",
       "      <td>0.103081</td>\n",
       "      <td>False</td>\n",
       "    </tr>\n",
       "  </tbody>\n",
       "</table>\n",
       "</div>"
      ],
      "text/plain": [
       "       mod lin   syn         p  signif\n",
       "0      sam   R  high  0.457143   False\n",
       "6      vse   R  high  0.085428   False\n",
       "12   depic   R  high  0.053081   False\n",
       "2      sam   L  high  0.101659   False\n",
       "8      vse   L  high  0.312374   False\n",
       "14   depic   L  high  0.513074   False\n",
       "13   depic   R   low  0.682303   False\n",
       "3      sam   L   low       NaN   False\n",
       "9      vse   L   low       NaN   False\n",
       "15   depic   L   low       NaN   False\n",
       "21  kazhdy   L   low       NaN   False\n",
       "5      sam   E   low  0.103081   False"
      ]
     },
     "execution_count": 46,
     "metadata": {},
     "output_type": "execute_result"
    }
   ],
   "source": [
    "pval[~ pval['signif']].sort_values('lin', ascending=False).sort_values('syn', ascending=True)"
   ]
  },
  {
   "cell_type": "code",
   "execution_count": 47,
   "metadata": {},
   "outputs": [],
   "source": [
    "pval = pval.sort_values(['syn', 'lin'])"
   ]
  },
  {
   "cell_type": "code",
   "execution_count": 48,
   "metadata": {},
   "outputs": [],
   "source": [
    "pval.to_csv('pval.csv', sep='\\t', index=False)"
   ]
  },
  {
   "cell_type": "code",
   "execution_count": 41,
   "metadata": {},
   "outputs": [],
   "source": [
    "!wl-copy < pval.csv"
   ]
  },
  {
   "cell_type": "code",
   "execution_count": 51,
   "metadata": {},
   "outputs": [
    {
     "data": {
      "text/plain": [
       "text\n",
       "Она мечтала у него обо всем спросить самого.      2.750\n",
       "Она мечтала у него обо всем спросить у самого.    2.450\n",
       "Я узнал у нее все детали самой.                   1.350\n",
       "Я узнал у нее все детали у самой.                 2.875\n",
       "Name: value, dtype: float64"
      ]
     },
     "execution_count": 51,
     "metadata": {},
     "output_type": "execute_result"
    }
   ],
   "source": [
    "data[(data['lin'] == 'E') & (data['syn'] == 'low') & (data['mod'] == 'sam')].groupby('text')['value'].mean()"
   ]
  },
  {
   "cell_type": "code",
   "execution_count": 56,
   "metadata": {},
   "outputs": [
    {
     "data": {
      "text/plain": [
       "text\n",
       "Я узнал у нее все детали самой.      1.350\n",
       "Я узнал у нее все детали у самой.    2.875\n",
       "Name: value, dtype: float64"
      ]
     },
     "execution_count": 56,
     "metadata": {},
     "output_type": "execute_result"
    }
   ],
   "source": [
    "data[data['text'].str.find('Я узнал у нее') >= 0].groupby('text')['value'].mean()"
   ]
  },
  {
   "cell_type": "code",
   "execution_count": 64,
   "metadata": {},
   "outputs": [
    {
     "data": {
      "text/plain": [
       "const    0.000397\n",
       "0        0.005593\n",
       "dtype: float64"
      ]
     },
     "execution_count": 64,
     "metadata": {},
     "output_type": "execute_result"
    }
   ],
   "source": [
    "data_mod = data[data['text'].str.find('Я узнал у нее') >= 0]\n",
    "X = sm.add_constant(data_mod['text'].astype('category').cat.codes)\n",
    "est = sm.OLS(data_mod['value'], X).fit()\n",
    "est.pvalues"
   ]
  },
  {
   "cell_type": "code",
   "execution_count": null,
   "metadata": {},
   "outputs": [
    {
     "data": {
      "text/plain": [
       "const    0.000397\n",
       "0        0.005593\n",
       "dtype: float64"
      ]
     },
     "metadata": {},
     "output_type": "display_data"
    }
   ],
   "source": [
    "data_mod = data_mod[data_mod['lin' in ['R', 'L']]]\n",
    "X = sm.add_constant(data_mod[['']].astype('category').cat.codes)\n",
    "est = sm.OLS(data_mod['value'], X).fit()\n",
    "est.pvalues"
   ]
  },
  {
   "cell_type": "markdown",
   "metadata": {},
   "source": [
    "### Синт позиция"
   ]
  },
  {
   "cell_type": "code",
   "execution_count": 28,
   "metadata": {},
   "outputs": [],
   "source": [
    "def linreg_mod_lin(mod, lin):\n",
    "    data_mod = data_num[(data_num['mod'] == mod) & (data['lin'] == lin)]\n",
    "    X = sm.add_constant(data_mod['syn'])\n",
    "    est = sm.OLS(data_mod['value'], X).fit()\n",
    "    return est"
   ]
  },
  {
   "cell_type": "code",
   "execution_count": 30,
   "metadata": {},
   "outputs": [
    {
     "name": "stdout",
     "output_type": "stream",
     "text": [
      "vse R\n",
      "const    9.032031e-78\n",
      "syn      3.015631e-03\n",
      "dtype: float64\n",
      "vse E\n",
      "const    8.913375e-30\n",
      "syn      1.646005e-02\n",
      "dtype: float64\n",
      "sam R\n",
      "const    6.311290e-65\n",
      "syn      3.266237e-04\n",
      "dtype: float64\n",
      "sam E\n",
      "const    3.213648e-42\n",
      "syn      7.084065e-11\n",
      "dtype: float64\n",
      "depic R\n",
      "const    1.160152e-43\n",
      "syn      4.308830e-03\n",
      "dtype: float64\n",
      "depic E\n",
      "const    3.983144e-37\n",
      "syn      3.942428e-07\n",
      "dtype: float64\n"
     ]
    }
   ],
   "source": [
    "for mod in ('vse', 'sam', 'depic'):\n",
    "    for lin in ('R', 'E'):\n",
    "        try:\n",
    "            print(mod, lin)\n",
    "            print(linreg_mod_lin(mod, lin).pvalues)\n",
    "        except:\n",
    "            pass"
   ]
  }
 ],
 "metadata": {
  "kernelspec": {
   "display_name": ".venv",
   "language": "python",
   "name": "python3"
  },
  "language_info": {
   "codemirror_mode": {
    "name": "ipython",
    "version": 3
   },
   "file_extension": ".py",
   "mimetype": "text/x-python",
   "name": "python",
   "nbconvert_exporter": "python",
   "pygments_lexer": "ipython3",
   "version": "3.12.7"
  }
 },
 "nbformat": 4,
 "nbformat_minor": 2
}
